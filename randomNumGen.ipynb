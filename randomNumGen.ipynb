{
 "cells": [
  {
   "cell_type": "code",
   "execution_count": 10,
   "metadata": {},
   "outputs": [],
   "source": [
    "import numpy as np\n",
    "import matplotlib.pyplot as plt"
   ]
  },
  {
   "cell_type": "code",
   "execution_count": 11,
   "metadata": {},
   "outputs": [],
   "source": [
    "pi = \"\"\"\n",
    "1415926535 8979323846 2643383279 5028841971 6939937510 5820974944 \n",
    "5923078164 0628620899 8628034825 3421170679 8214808651 3282306647 \n",
    "0938446095 5058223172 5359408128 4811174502 8410270193 8521105559 \n",
    "6446229489 5493038196 4428810975 6659334461 2847564823 3786783165 \n",
    "2712019091 4564856692 3460348610 4543266482 1339360726 0249141273 \n",
    "7245870066 0631558817 4881520920 9628292540 9171536436 7892590360 \n",
    "0113305305 4882046652 1384146951 9415116094 3305727036 5759591953 \n",
    "0921861173 8193261179 3105118548 0744623799 6274956735 1885752724 \n",
    "8912279381 8301194912 9833673362 4406566430 8602139494 6395224737 \n",
    "1907021798 6094370277 0539217176 2931767523 8467481846 7669405132 \n",
    "0005681271 4526356082 7785771342 7577896091 7363717872 1468440901 \n",
    "2249534301 4654958537 1050792279 6892589235 4201995611 2129021960 \n",
    "8640344181 5981362977 4771309960 5187072113 4999999837 2978049951 \n",
    "0597317328 1609631859 5024459455 3469083026 4252230825 3344685035 \n",
    "2619311881 7101000313 7838752886 5875332083 8142061717 7669147303 \n",
    "5982534904 2875546873 1159562863 8823537875 9375195778 1857780532 \n",
    "1712268066 1300192787 6611195909 2164201989\n",
    "\"\"\"\n",
    "pi = pi.replace(\" \",\"\").replace(\"\\n\",\"\")\n"
   ]
  },
  {
   "cell_type": "code",
   "execution_count": 535,
   "metadata": {},
   "outputs": [
    {
     "data": {
      "image/png": "[encoded data removed]",
      "text/plain": [
       "<Figure size 432x288 with 1 Axes>"
      ]
     },
     "metadata": {
      "needs_background": "light"
     },
     "output_type": "display_data"
    }
   ],
   "source": [
    "pi_np = np.array(list(pi[800:1000]), dtype=np.int8)\n",
    "np.unique(pi_np, return_counts=True)\n",
    "plt.bar(np.arange(10), np.unique(pi_np, return_counts=True)[1])\n",
    "plt.show()\n"
   ]
  },
  {
   "cell_type": "code",
   "execution_count": 526,
   "metadata": {},
   "outputs": [],
   "source": [
    "def get_seed(pi_digits, seed_length):\n",
    "    start = np.random.randint(0, len(pi_digits))\n",
    "    if start + seed_length > len(pi_digits):\n",
    "        seed = pi_digits[start:] + pi_digits[:start+seed_length-len(pi_digits)]\n",
    "    else:\n",
    "        seed = pi_digits[start:start+seed_length]\n",
    "    return seed\n",
    "\n",
    "\n",
    "def get_secuence(seed):\n",
    "    seed_s = seed*3\n",
    "    secuences = []\n",
    "    for s in range(0, len(seed_s), 3):\n",
    "        secuences.append(seed_s[s:s+3])\n",
    "    return np.array(secuences)\n",
    "\n",
    "\n",
    "def get_random_num(secuences):\n",
    "    num_list = [pi[int(x)] for x in secuences]\n",
    "    num = int(''.join(num_list))\n",
    "    return num\n",
    "    "
   ]
  },
  {
   "cell_type": "code",
   "execution_count": 473,
   "metadata": {},
   "outputs": [
    {
     "data": {
      "text/plain": [
       "40414967283"
      ]
     },
     "execution_count": 473,
     "metadata": {},
     "output_type": "execute_result"
    }
   ],
   "source": [
    "get_random_num(get_secuence(get_seed(pi, 11)))"
   ]
  },
  {
   "cell_type": "code",
   "execution_count": 246,
   "metadata": {},
   "outputs": [],
   "source": [
    "f = lambda: get_random_num(get_secuence(get_seed(pi, 11)))"
   ]
  },
  {
   "cell_type": "code",
   "execution_count": 518,
   "metadata": {},
   "outputs": [
    {
     "data": {
      "image/png": "[encoded data removed]",
      "text/plain": [
       "<Figure size 432x288 with 1 Axes>"
      ]
     },
     "metadata": {
      "needs_background": "light"
     },
     "output_type": "display_data"
    },
    {
     "name": "stdout",
     "output_type": "stream",
     "text": [
      "[0 1 2 3 4 5 6 7 8 9] [ 901 1143 1056 1162  866 1058  889  927 1048  950]\n"
     ]
    }
   ],
   "source": [
    "ramdom_nums = []\n",
    "for i in range(10000):\n",
    "    num = f()/99999999999\n",
    "    ramdom_nums.append(int(num*10))\n",
    "\n",
    "y = np.unique(ramdom_nums, return_counts=True)[1]\n",
    "x = np.unique(ramdom_nums, return_counts=True)[0]\n",
    "plt.bar(x, y)\n",
    "plt.show()\n",
    "print(x,y)"
   ]
  },
  {
   "cell_type": "code",
   "execution_count": 519,
   "metadata": {},
   "outputs": [
    {
     "ename": "SyntaxError",
     "evalue": "invalid syntax (2156507886.py, line 1)",
     "output_type": "error",
     "traceback": [
      "\u001b[1;36m  Input \u001b[1;32mIn [519]\u001b[1;36m\u001b[0m\n\u001b[1;33m    [ 927 1130 1054 1179  878 1027  968  856 1055  926]\u001b[0m\n\u001b[1;37m          ^\u001b[0m\n\u001b[1;31mSyntaxError\u001b[0m\u001b[1;31m:\u001b[0m invalid syntax\n"
     ]
    }
   ],
   "source": [
    "[ 927 1130 1054 1179  878 1027  968  856 1055  926]\n",
    "[ 852 1139 1059 1146  884 1034  946  904 1094  942]\n",
    "[ 901 1143 1056 1162  866 1058  889  927 1048  950]"
   ]
  },
  {
   "cell_type": "code",
   "execution_count": 496,
   "metadata": {},
   "outputs": [
    {
     "data": {
      "image/png": "[encoded data removed]",
      "text/plain": [
       "<Figure size 432x288 with 1 Axes>"
      ]
     },
     "metadata": {
      "needs_background": "light"
     },
     "output_type": "display_data"
    },
    {
     "name": "stdout",
     "output_type": "stream",
     "text": [
      "[0 1 2 3 4 5 6 7 8 9] [ 956 1022 1040  984 1002  993  973  993 1049  988]\n"
     ]
    }
   ],
   "source": [
    "ramdom_nums = []\n",
    "for i in range(10000):\n",
    "    ramdom_nums.append(int(np.random.random()*10))\n",
    "\n",
    "y = np.unique(ramdom_nums, return_counts=True)[1]\n",
    "x = np.unique(ramdom_nums, return_counts=True)[0]\n",
    "plt.bar(x, y)\n",
    "plt.show()\n",
    "print(x,y)"
   ]
  }
 ],
 "metadata": {
  "kernelspec": {
   "display_name": "base",
   "language": "python",
   "name": "python3"
  },
  "language_info": {
   "codemirror_mode": {
    "name": "ipython",
    "version": 3
   },
   "file_extension": ".py",
   "mimetype": "text/x-python",
   "name": "python",
   "nbconvert_exporter": "python",
   "pygments_lexer": "ipython3",
   "version": "3.9.12"
  },
  "orig_nbformat": 4
 },
 "nbformat": 4,
 "nbformat_minor": 2
}
