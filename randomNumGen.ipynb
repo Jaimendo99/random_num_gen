{
 "cells": [
  {
   "cell_type": "code",
   "execution_count": 1,
   "metadata": {},
   "outputs": [],
   "source": [
    "import numpy as np\n",
    "import matplotlib.pyplot as plt"
   ]
  },
  {
   "cell_type": "code",
   "execution_count": 2,
   "metadata": {},
   "outputs": [],
   "source": [
    "pi = \"\"\"\n",
    "1415926535 8979323846 2643383279 5028841971 6939937510 5820974944 \n",
    "5923078164 0628620899 8628034825 3421170679 8214808651 3282306647 \n",
    "0938446095 5058223172 5359408128 4811174502 8410270193 8521105559 \n",
    "6446229489 5493038196 4428810975 6659334461 2847564823 3786783165 \n",
    "2712019091 4564856692 3460348610 4543266482 1339360726 0249141273 \n",
    "7245870066 0631558817 4881520920 9628292540 9171536436 7892590360 \n",
    "0113305305 4882046652 1384146951 9415116094 3305727036 5759591953 \n",
    "0921861173 8193261179 3105118548 0744623799 6274956735 1885752724 \n",
    "8912279381 8301194912 9833673362 4406566430 8602139494 6395224737 \n",
    "1907021798 6094370277 0539217176 2931767523 8467481846 7669405132 \n",
    "0005681271 4526356082 7785771342 7577896091 7363717872 1468440901 \n",
    "2249534301 4654958537 1050792279 6892589235 4201995611 2129021960 \n",
    "8640344181 5981362977 4771309960 5187072113 4999999837 2978049951 \n",
    "0597317328 1609631859 5024459455 3469083026 4252230825 3344685035 \n",
    "2619311881 7101000313 7838752886 5875332083 8142061717 7669147303 \n",
    "5982534904 2875546873 1159562863 8823537875 9375195778 1857780532 \n",
    "1712268066 1300192787 6611195909 2164201989\n",
    "\"\"\"\n",
    "pi = pi.replace(\" \",\"\").replace(\"\\n\",\"\")\n"
   ]
  },
  {
   "cell_type": "code",
   "execution_count": 3,
   "metadata": {},
   "outputs": [
    {
     "data": {
      "image/png": "[encoded data removed]",
      "text/plain": [
       "<Figure size 432x288 with 1 Axes>"
      ]
     },
     "metadata": {
      "needs_background": "light"
     },
     "output_type": "display_data"
    }
   ],
   "source": [
    "pi_np = np.array(list(pi), dtype=np.int8)\n",
    "np.unique(pi_np, return_counts=True)\n",
    "plt.bar(np.arange(10), np.unique(pi_np, return_counts=True)[1])\n",
    "plt.show()\n"
   ]
  },
  {
   "cell_type": "code",
   "execution_count": 4,
   "metadata": {},
   "outputs": [],
   "source": [
    "def get_seed(pi_digits, seed_length):\n",
    "    start = np.random.randint(0, len(pi_digits))\n",
    "    if start + seed_length > len(pi_digits):\n",
    "        seed = pi_digits[start:] + pi_digits[:start+seed_length-len(pi_digits)]\n",
    "    else:\n",
    "        seed = pi_digits[start:start+seed_length]\n",
    "    return seed\n",
    "\n",
    "\n",
    "def get_secuence(seed):\n",
    "    seed_s = seed*3\n",
    "    secuences = []\n",
    "    for s in range(0, len(seed_s), 3):\n",
    "        secuences.append(seed_s[s:s+3])\n",
    "    return np.array(secuences)\n",
    "\n",
    "\n",
    "def get_random_num(secuences):\n",
    "    num_list = [pi[int(x)] for x in secuences]\n",
    "    num = (''.join(num_list))\n",
    "    return num\n",
    "    "
   ]
  },
  {
   "cell_type": "code",
   "execution_count": 5,
   "metadata": {},
   "outputs": [
    {
     "data": {
      "text/plain": [
       "'05226861483'"
      ]
     },
     "execution_count": 5,
     "metadata": {},
     "output_type": "execute_result"
    }
   ],
   "source": [
    "get_random_num(get_secuence('97217732525')) "
   ]
  },
  {
   "cell_type": "code",
   "execution_count": 6,
   "metadata": {},
   "outputs": [
    {
     "data": {
      "text/plain": [
       "(array([ 706., 1039.,  710.,  930.,  820.,  720.,  707.,  765.,  653.,\n",
       "         654.,  553., 1150., 1314.,  979.,  929.,  661., 1053., 1087.,\n",
       "        1515., 1099.,  716.,  615.,  874., 1242.,  921.,  932.,  612.,\n",
       "         773.,  719.,  713.,  607.,  620., 1083.,  826.,  612.,  774.,\n",
       "         663., 1030., 1030., 1142., 1030.,  671.,  878.,  497.,  820.,\n",
       "         779.,  767.,  920.,  606.,  666., 1037.,  709.,  981., 1308.,\n",
       "         873.,  925.,  718.,  505.,  875.,  982., 1148.,  979., 1030.,\n",
       "        1079., 1192.,  816.,  720.,  878., 1085.,  869.,  604., 1131.,\n",
       "         976., 1306.,  918.,  658.,  661.,  510.,  926.,  820., 1302.,\n",
       "         923.,  551.,  927.,  825.,  921.,  557., 1196.,  705., 1183.,\n",
       "         498., 1142., 1091., 1088.,  876.,  721.,  822.,  875., 1041.,\n",
       "        1143.,  882., 1408., 1097.,  986.,  829.,  938., 1090.,  982.,\n",
       "        1364., 1094., 1468., 1103., 1477., 1417., 1146., 1355., 1582.,\n",
       "        1047., 1148., 1102., 1355., 1310., 1463., 1146., 1092.,  882.,\n",
       "        1211., 1148., 1110.,  823., 1030., 1043., 1307., 1263., 1513.,\n",
       "        1198.,  982.,  838.,  943., 1267., 1254., 1361., 1302.,  993.,\n",
       "        1355., 1146., 1092., 1041.,  769.,  928., 1193., 1200.,  982.,\n",
       "        1094.,  874., 1033., 1085.,  928.,  983., 1037.,  979., 1158.,\n",
       "        1304., 1044., 1357., 1086.,  985., 1093., 1356., 1526.,  726.,\n",
       "         670.,  934., 1145.,  929., 1353., 1206., 1249.,  930., 1095.,\n",
       "         869., 1419.,  933., 1251.,  836., 1261.,  989.,  765., 1409.,\n",
       "        1461., 1200., 1416.,  884., 1628., 1092., 1617., 1035., 1037.,\n",
       "        1312., 1411.,  718., 1194.,  555., 1467.,  556.,  768.,  821.,\n",
       "         884.,  776.,  824., 1188., 1679., 1793.,  879., 1363.,  936.,\n",
       "        1089.,  880., 1038., 1576.,  708., 1510.,  613., 1195.,  502.,\n",
       "        1039., 1039., 1201., 1358.,  671., 1143., 1361.,  721., 1457.,\n",
       "        1305., 1616., 1149.,  770., 1259., 1302., 1308.,  990.,  824.,\n",
       "         730.,  821., 1089.,  915.,  718.,  823.,  827.,  873.,  719.,\n",
       "         873., 1085.,  620.,  871., 1465.,  817.,  884., 1039., 1033.,\n",
       "        1522., 1683., 1143.,  977., 1203., 1201.,  876.,  881.,  883.,\n",
       "         872., 1414., 1197.,  839.,  657.,  986.,  608., 1194.,  876.,\n",
       "         984.,  878., 1207., 1567., 1455., 1143.,  607., 1193.,  878.,\n",
       "        1141., 1201.,  555., 1150.,  876., 1256., 1247.,  989.,  936.,\n",
       "         827.,  656.,  881.,  711.,  822.,  772.,  937.,  775.,  878.,\n",
       "         869.,  503., 1356.,  871., 1202., 1522.,  935., 1311., 1414.,\n",
       "         879., 1480.,  823., 1187., 1519.,  924., 1093., 1356., 1514.,\n",
       "        1505.,  762., 1352., 1089.,  723., 1094.,  874., 1152., 1455.,\n",
       "        1081., 1254., 1206., 1195.,  883., 1306., 1354.,  876., 1303.,\n",
       "         718., 1404.,  984., 1350.,  823.,  931., 1251.,  840.,  868.,\n",
       "        1563., 1146., 1192., 1085., 1249.,  981., 1198., 1090.,  928.,\n",
       "         710., 1419., 1043., 1143.,  986., 1146., 1087.,  982., 1198.,\n",
       "         881.,  923., 1136., 1087., 1250.,  890.,  822.,  668.,  665.,\n",
       "         662., 1307.,  774., 1142., 1040.,  977.,  764., 1348.,  871.,\n",
       "        1144., 1298., 1308., 1201., 1525., 1521., 1193.,  829., 1410.,\n",
       "        1517., 1045.,  872.,  722.,  765., 1299.,  825., 1198.,  712.,\n",
       "         609.,  923., 1077.,  709., 1198., 1105., 1356.,  661., 1188.,\n",
       "         828., 1032.,  983., 1092.,  984., 1528.,  768., 1254.,  878.,\n",
       "        1044.,  981., 1195.,  877.,  976.,  977.,  672.,  598., 1251.,\n",
       "        1353., 1194., 1085.,  869.,  439.,  873., 1083.,  655.,  552.,\n",
       "         719., 1301., 1305., 1080.,  976.,  927.,  758.,  987.,  616.,\n",
       "         770.,  763.,  662., 1463.,  714., 1026.,  713.,  873., 1145.,\n",
       "        1199., 1085.,  924.,  923.,  610.,  825.,  876.,  976., 1139.,\n",
       "        1041.,  813.,  391., 1086., 1034.,  871.,  981.,  822.,  928.,\n",
       "         987.,  507.,  977.,  875.,  879.,  987.,  662., 1096.,  870.,\n",
       "         775.,  867.,  878., 1087.,  508.,  977.,  872.,  932.,  982.,\n",
       "         662., 1198.,  717.,  939.,  820.,  868., 1093.,  827.,  550.,\n",
       "         812.,  763., 1139., 1249.,  981.,  932.,  556., 1251.,  717.,\n",
       "         889., 1198.,  931., 1314.,  989., 1150.,  725.,  662.,  985.,\n",
       "         719.,  982.,  715., 1201.,  825.,  718., 1140., 1464.,  923.,\n",
       "        1414., 1031., 1034., 1243., 1146., 1032., 1195., 1138., 1358.,\n",
       "         610., 1090.,  987.,  870.,  765.,  816., 1299.,  880.,  876.,\n",
       "         832.,  931., 1094., 1041.,  975., 1141.,  768., 1138.,  928.,\n",
       "        1030.,  936.,  772., 1031., 1039., 1462.,  718.,  818., 1358.,\n",
       "         713.,  815., 1037.,  714., 1354.,  877.,  867.,  722.,  608.,\n",
       "         932., 1143.,  873., 1405.,  924., 1147., 1518.,  990.,  498.,\n",
       "         556.,  718., 1188.,  773., 1507.,  611., 1202., 1148.,  774.,\n",
       "        1144.,  554., 1415.,  876.,  769., 1038.,  815., 1145.,  652.,\n",
       "         877., 1040., 1191.,  723.,  506., 1091., 1032., 1038., 1310.,\n",
       "        1245., 1095., 1143.,  732., 1251., 1195.,  934., 1306.,  867.,\n",
       "        1526.,  943., 1028.,  656.,  668., 1619., 1085., 1464., 1247.,\n",
       "         816., 1735.,  923.,  775.,  768., 1201., 1033.,  879.,  717.,\n",
       "        1199.,  820., 1507.,  924.,  819.,  831.,  712.,  980.,  877.,\n",
       "         982., 1197.,  872.,  932., 1030.,  931.,  919., 1083., 1140.,\n",
       "        1087., 1093.,  767.,  875.,  988.,  718., 1408.,  548., 1034.,\n",
       "         987., 1080.,  717., 1242.,  714., 1091.,  816., 1143.,  659.,\n",
       "         815.,  564.,  817.,  874., 1092.,  982.,  828., 1097., 1302.,\n",
       "        1135.,  667.,  716., 1036.,  980., 1421.,  814., 1354., 1246.,\n",
       "        1457.,  718., 1095., 1033.,  877.,  867.,  828.,  762.,  885.,\n",
       "        1084.,  562.,  341., 1240., 1086.,  867.,  554.,  767., 1306.,\n",
       "        1103., 1152., 1190.,  877., 1411., 1146., 1034.,  984., 1248.,\n",
       "         713., 1574.,  933., 1143.,  934.,  767., 1123.,  873., 1249.,\n",
       "         925.,  932., 1037., 1088.,  980., 1091.,  719., 1145.,  986.,\n",
       "         931., 1305.,  818., 1048.,  772., 1141.,  976.,  666.,  769.,\n",
       "         282.,  814.,  769.,  931.,  817.,  764.,  872.,  927.,  600.,\n",
       "         717., 1137.,  660.,  979.,  765.,  663., 1084.,  717.,  611.,\n",
       "         981.,  713.,  604., 1034.,  667.,  881., 1090., 1036.,  821.,\n",
       "         600., 1044.,  877.,  711.,  719.,  876.,  598.,  882.,  937.,\n",
       "        1242.,  875., 1144.,  609.,  817.,  722.,  765.,  651., 1242.,\n",
       "         767., 1356., 1193., 1195.,  933.,  976., 1196., 1511.,  872.,\n",
       "         720.,  886.,  609.,  876.,  825., 1088.,  813.,  981., 1090.,\n",
       "         938.,  995., 1087., 1039., 1035.,  985.,  997.,  822., 1104.,\n",
       "        1251.,  762., 1307.,  991., 1298., 1036.,  665., 1309.,  607.,\n",
       "        1520., 1043.,  611., 1141., 1514.,  992.,  773., 1185., 1514.,\n",
       "        1045.,  882., 1473.,  975.,  987.,  978.,  763.,  970.,  606.,\n",
       "         880.,  866.,  976.,  870.,  879.,  880.,  818., 1187.,  922.,\n",
       "        1249.,  777.,  609., 1301.,  987.,  566., 1102.,  816.,  500.,\n",
       "        1038.,  663.,  824.,  396., 1035., 1038., 1082.,  878., 1137.,\n",
       "        1194.,  969.,  881.,  605.,  811., 1307., 1468.,  926.,  934.,\n",
       "        1033., 1084.,  984., 1089.,  927.,  981.,  822., 1035.,  667.,\n",
       "        1048., 1418., 1153., 1100., 1243., 1574., 1041., 1136., 1528.,\n",
       "         662.,  663.,  716.,  338.,  770., 1043., 1245.,  925.,  766.,\n",
       "         664., 1459., 1311., 1143., 1419., 1153., 1526., 1047., 1296.,\n",
       "        1095., 1472.,  985., 1140., 1252., 1309.,  771., 1267., 1355.,\n",
       "        1094.,  827.,  936.,  919., 1468.,  987., 2098.,  829., 1453.,\n",
       "        1359.,  877., 1352.,  832.,  981., 1190., 1030.,  824.,  777.,\n",
       "        1087.,  820., 1241.,  868., 1146.,  776., 1087., 1035., 1463.,\n",
       "         882., 1188.,  920., 1295.,  880.,  777., 1132., 1520., 1362.,\n",
       "         933., 1304., 1306.,  879.,  725.,  870., 1513., 1304., 1354.,\n",
       "        1252.,  979.,  559.,  509.,  671.,  714.,  876., 1039.,  670.,\n",
       "         730.,  989., 1141.,  932.,  932.,  719., 1415.,  988., 1081.,\n",
       "        1107., 1687., 1311., 1251.,  878.,  872., 1047.,  875.,  825.,\n",
       "         834.]),\n",
       " array([2.23314100e-05, 1.02227859e-03, 2.02222577e-03, ...,\n",
       "        9.97969616e-01, 9.98969563e-01, 9.99969510e-01]),\n",
       " <BarContainer object of 1000 artists>)"
      ]
     },
     "execution_count": 6,
     "metadata": {},
     "output_type": "execute_result"
    },
    {
     "data": {
      "image/png": "[encoded data removed]",
      "text/plain": [
       "<Figure size 432x288 with 1 Axes>"
      ]
     },
     "metadata": {
      "needs_background": "light"
     },
     "output_type": "display_data"
    }
   ],
   "source": [
    "values= [get_seed(pi, 11)]\n",
    "for _ in range(1000000):\n",
    "    values.append(str(get_random_num(get_secuence(values[-1]))))\n",
    "nums = [int(x) for x in values]\n",
    "nums1=[x/99999999999 for x in nums]\n",
    "\n",
    "plt.hist(nums1, bins=1000)"
   ]
  },
  {
   "cell_type": "code",
   "execution_count": 7,
   "metadata": {},
   "outputs": [
    {
     "data": {
      "text/plain": [
       "(array([164.,  54.,  54., ...,  56.,  57.,  59.]),\n",
       " array([2.23314100e-05, 1.22326128e-04, 2.22320846e-04, ...,\n",
       "        9.99769521e-01, 9.99869516e-01, 9.99969510e-01]),\n",
       " <BarContainer object of 10000 artists>)"
      ]
     },
     "execution_count": 7,
     "metadata": {},
     "output_type": "execute_result"
    },
    {
     "data": {
      "image/png": "[encoded data removed]",
      "text/plain": [
       "<Figure size 432x288 with 1 Axes>"
      ]
     },
     "metadata": {
      "needs_background": "light"
     },
     "output_type": "display_data"
    }
   ],
   "source": [
    "plt.hist(nums1, bins=10000)"
   ]
  },
  {
   "cell_type": "code",
   "execution_count": 45,
   "metadata": {},
   "outputs": [],
   "source": [
    "f = lambda: get_random_num(get_secuence(get_seed(pi, 11)))"
   ]
  },
  {
   "cell_type": "code",
   "execution_count": 55,
   "metadata": {},
   "outputs": [
    {
     "data": {
      "image/png": "[encoded data removed]",
      "text/plain": [
       "<Figure size 432x288 with 1 Axes>"
      ]
     },
     "metadata": {
      "needs_background": "light"
     },
     "output_type": "display_data"
    },
    {
     "name": "stdout",
     "output_type": "stream",
     "text": [
      "[0 1 2 3 4 5 6 7 8] [1114 1063 1062 1175 1365  989  868 1290 1074]\n"
     ]
    }
   ],
   "source": [
    "ramdom_nums = []\n",
    "for i in range(10000):\n",
    "    num = f()%9\n",
    "    ramdom_nums.append(int(num))\n",
    "\n",
    "y = np.unique(ramdom_nums, return_counts=True)[1]\n",
    "x = np.unique(ramdom_nums, return_counts=True)[0]\n",
    "plt.bar(x, y)\n",
    "plt.show()\n",
    "print(x,y)"
   ]
  },
  {
   "cell_type": "code",
   "execution_count": 496,
   "metadata": {},
   "outputs": [
    {
     "data": {
      "image/png": "[encoded data removed]",
      "text/plain": [
       "<Figure size 432x288 with 1 Axes>"
      ]
     },
     "metadata": {
      "needs_background": "light"
     },
     "output_type": "display_data"
    },
    {
     "name": "stdout",
     "output_type": "stream",
     "text": [
      "[0 1 2 3 4 5 6 7 8 9] [ 956 1022 1040  984 1002  993  973  993 1049  988]\n"
     ]
    }
   ],
   "source": [
    "ramdom_nums = []\n",
    "for i in range(10000):\n",
    "    ramdom_nums.append(int(np.random.random()*10))\n",
    "\n",
    "y = np.unique(ramdom_nums, return_counts=True)[1]\n",
    "x = np.unique(ramdom_nums, return_counts=True)[0]\n",
    "plt.bar(x, y)\n",
    "plt.show()\n",
    "print(x,y)"
   ]
  }
 ],
 "metadata": {
  "kernelspec": {
   "display_name": "base",
   "language": "python",
   "name": "python3"
  },
  "language_info": {
   "codemirror_mode": {
    "name": "ipython",
    "version": 3
   },
   "file_extension": ".py",
   "mimetype": "text/x-python",
   "name": "python",
   "nbconvert_exporter": "python",
   "pygments_lexer": "ipython3",
   "version": "3.9.12"
  },
  "orig_nbformat": 4
 },
 "nbformat": 4,
 "nbformat_minor": 2
}
