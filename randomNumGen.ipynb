{
 "cells": [
  {
   "cell_type": "code",
   "execution_count": 2,
   "metadata": {},
   "outputs": [],
   "source": [
    "import numpy as np\n",
    "from scipy.ndimage import uniform_filter1d\n",
    "import matplotlib.pyplot as plt\n",
    "from tqdm.notebook import tqdm, trange"
   ]
  },
  {
   "cell_type": "code",
   "execution_count": 3,
   "metadata": {},
   "outputs": [
    {
     "data": {
      "image/png": "[encoded data removed]",
      "text/plain": [
       "<Figure size 640x480 with 1 Axes>"
      ]
     },
     "metadata": {},
     "output_type": "display_data"
    }
   ],
   "source": [
    "pi = \"\"\"\n",
    "1415926535 8979323846 2643383279 5028841971 6939937510 5820974944 \n",
    "5923078164 0628620899 8628034825 3421170679 8214808651 3282306647 \n",
    "0938446095 5058223172 5359408128 4811174502 8410270193 8521105559 \n",
    "6446229489 5493038196 4428810975 6659334461 2847564823 3786783165 \n",
    "2712019091 4564856692 3460348610 4543266482 1339360726 0249141273 \n",
    "7245870066 0631558817 4881520920 9628292540 9171536436 7892590360 \n",
    "0113305305 4882046652 1384146951 9415116094 3305727036 5759591953 \n",
    "0921861173 8193261179 3105118548 0744623799 6274956735 1885752724 \n",
    "8912279381 8301194912 9833673362 4406566430 8602139494 6395224737 \n",
    "1907021798 6094370277 0539217176 2931767523 8467481846 7669405132 \n",
    "0005681271 4526356082 7785771342 7577896091 7363717872 1468440901 \n",
    "2249534301 4654958537 1050792279 6892589235 4201995611 2129021960 \n",
    "8640344181 5981362977 4771309960 5187072113 4999999837 2978049951 \n",
    "0597317328 1609631859 5024459455 3469083026 4252230825 3344685035 \n",
    "2619311881 7101000313 7838752886 5875332083 8142061717 7669147303 \n",
    "5982534904 2875546873 1159562863 8823537875 9375195778 1857780532 \n",
    "1712268066 1300192787 6611195909 2164201989\n",
    "\"\"\"\n",
    "pi = pi.replace(\" \",\"\").replace(\"\\n\",\"\")\n",
    "\n",
    "pi_np = np.array(list(pi))\n",
    "np.unique(pi_np, return_counts=True)\n",
    "plt.bar(np.arange(10), np.unique(pi_np, return_counts=True)[1])\n",
    "plt.show()\n"
   ]
  },
  {
   "cell_type": "code",
   "execution_count": 4,
   "metadata": {},
   "outputs": [],
   "source": [
    "def get_seed(pi_digits, seed_length):\n",
    "    start = np.random.randint(0, len(pi_digits))\n",
    "    if start + seed_length > len(pi_digits):\n",
    "        seed = pi_digits[start:] + pi_digits[:start+seed_length-len(pi_digits)]\n",
    "    else:\n",
    "        seed = pi_digits[start:start+seed_length]\n",
    "    return seed\n",
    "\n",
    "\n",
    "def get_secuence(seed):\n",
    "    seed_s = seed*3\n",
    "    secuences = []\n",
    "    for s in range(0, len(seed_s), 3):\n",
    "        secuences.append(seed_s[s:s+3])\n",
    "    return np.array(secuences)\n",
    "\n",
    "\n",
    "def get_random_num(secuences):\n",
    "    num_list = [pi[int(x)] for x in secuences]\n",
    "    num = (''.join(num_list))\n",
    "    return num\n",
    "\n",
    "def repeating_ext(data, method = 'max'):\n",
    "    if len(data) == 0:\n",
    "        return [] , data\n",
    "    \n",
    "    if method == 'max':\n",
    "        ext = np.where(data==np.max(data))[0]\n",
    "    elif method == 'min':\n",
    "        ext = np.where(data==np.min(data))[0]\n",
    "    else:\n",
    "        raise AttributeError('method not valid, use \"max\" or \"min\"')\n",
    "\n",
    "    if len(ext)==1:\n",
    "        return repeating_ext(data[ext[0]+1:])\n",
    "    return ext, data\n",
    "\n",
    "\n",
    "def get_nums(seed=None , n=400000, pi=pi, rawness='rounded'):\n",
    "    if not seed:\n",
    "        seed = get_seed(pi, 11)\n",
    "\n",
    "    values= [seed]\n",
    "    for _ in trange(n, desc=f'Random: {seed}'):\n",
    "        values.append(str(get_random_num(get_secuence(values[-1]))))\n",
    "\n",
    "    nums = [int(x) for x in values]\n",
    "    nums1=[x/99999999999 for x in nums]\n",
    "\n",
    "    avg_data = uniform_filter1d(nums1, size=5000)\n",
    "    avg_data_rounded = np.round(avg_data, 12)\n",
    "\n",
    "    if rawness == 'rounded':\n",
    "        data = avg_data_rounded\n",
    "    elif rawness == 'moving_avg':\n",
    "        data = avg_data\n",
    "    elif rawness == 'raw':\n",
    "        data = nums1\n",
    "    else:\n",
    "        raise AttributeError('rawness not valid, use \"rounded\" or \"moving_avg\"')\n",
    "\n",
    "    return seed, data\n",
    "    "
   ]
  },
  {
   "cell_type": "code",
   "execution_count": 5,
   "metadata": {},
   "outputs": [
    {
     "data": {
      "application/vnd.jupyter.widget-view+json": {
       "model_id": "7c882fc870f34b2098aedcd81aa4013e",
       "version_major": 2,
       "version_minor": 0
      },
      "text/plain": [
       "  0%|          | 0/20 [00:00<?, ?it/s]"
      ]
     },
     "metadata": {},
     "output_type": "display_data"
    },
    {
     "data": {
      "application/vnd.jupyter.widget-view+json": {
       "model_id": "9242f33575794de1bd27275fa2c4c9ae",
       "version_major": 2,
       "version_minor": 0
      },
      "text/plain": [
       "Random: 59502445945:   0%|          | 0/400000 [00:00<?, ?it/s]"
      ]
     },
     "metadata": {},
     "output_type": "display_data"
    },
    {
     "data": {
      "application/vnd.jupyter.widget-view+json": {
       "model_id": "25d0bf5274c443fa8bb5057d05b18ac0",
       "version_major": 2,
       "version_minor": 0
      },
      "text/plain": [
       "Random: 20199561121:   0%|          | 0/400000 [00:00<?, ?it/s]"
      ]
     },
     "metadata": {},
     "output_type": "display_data"
    },
    {
     "data": {
      "application/vnd.jupyter.widget-view+json": {
       "model_id": "8bb49c60587f4ef6b7662830aba92a44",
       "version_major": 2,
       "version_minor": 0
      },
      "text/plain": [
       "Random: 51870721134:   0%|          | 0/400000 [00:00<?, ?it/s]"
      ]
     },
     "metadata": {},
     "output_type": "display_data"
    },
    {
     "data": {
      "application/vnd.jupyter.widget-view+json": {
       "model_id": "41ef5d03627a463a873f996d9e38c472",
       "version_major": 2,
       "version_minor": 0
      },
      "text/plain": [
       "Random: 48111745028:   0%|          | 0/400000 [00:00<?, ?it/s]"
      ]
     },
     "metadata": {},
     "output_type": "display_data"
    },
    {
     "data": {
      "application/vnd.jupyter.widget-view+json": {
       "model_id": "1885773b24554849acb9fc1db3930d26",
       "version_major": 2,
       "version_minor": 0
      },
      "text/plain": [
       "Random: 08381420617:   0%|          | 0/400000 [00:00<?, ?it/s]"
      ]
     },
     "metadata": {},
     "output_type": "display_data"
    },
    {
     "data": {
      "application/vnd.jupyter.widget-view+json": {
       "model_id": "6c7b911c07f04819893799b14532b134",
       "version_major": 2,
       "version_minor": 0
      },
      "text/plain": [
       "Random: 91298336733:   0%|          | 0/400000 [00:00<?, ?it/s]"
      ]
     },
     "metadata": {},
     "output_type": "display_data"
    },
    {
     "data": {
      "application/vnd.jupyter.widget-view+json": {
       "model_id": "8864628894fc444a8ebaab7e10e48f7d",
       "version_major": 2,
       "version_minor": 0
      },
      "text/plain": [
       "Random: 71309960518:   0%|          | 0/400000 [00:00<?, ?it/s]"
      ]
     },
     "metadata": {},
     "output_type": "display_data"
    },
    {
     "data": {
      "application/vnd.jupyter.widget-view+json": {
       "model_id": "41b4b601ec2e44a5af8af2459fb2a28d",
       "version_major": 2,
       "version_minor": 0
      },
      "text/plain": [
       "Random: 62440656643:   0%|          | 0/400000 [00:00<?, ?it/s]"
      ]
     },
     "metadata": {},
     "output_type": "display_data"
    },
    {
     "data": {
      "application/vnd.jupyter.widget-view+json": {
       "model_id": "7fdfcba988044b71bc303f420ab7eb4b",
       "version_major": 2,
       "version_minor": 0
      },
      "text/plain": [
       "Random: 79381830119:   0%|          | 0/400000 [00:00<?, ?it/s]"
      ]
     },
     "metadata": {},
     "output_type": "display_data"
    },
    {
     "data": {
      "application/vnd.jupyter.widget-view+json": {
       "model_id": "46038ce4a28c4608b9f96acc8917e807",
       "version_major": 2,
       "version_minor": 0
      },
      "text/plain": [
       "Random: 58700660631:   0%|          | 0/400000 [00:00<?, ?it/s]"
      ]
     },
     "metadata": {},
     "output_type": "display_data"
    },
    {
     "data": {
      "application/vnd.jupyter.widget-view+json": {
       "model_id": "eb6ac20d1e234cb2a5b823fe0ee9ccd3",
       "version_major": 2,
       "version_minor": 0
      },
      "text/plain": [
       "Random: 65759591953:   0%|          | 0/400000 [00:00<?, ?it/s]"
      ]
     },
     "metadata": {},
     "output_type": "display_data"
    },
    {
     "data": {
      "application/vnd.jupyter.widget-view+json": {
       "model_id": "7f33912df532462ab23a61f74335fe3d",
       "version_major": 2,
       "version_minor": 0
      },
      "text/plain": [
       "Random: 56812714526:   0%|          | 0/400000 [00:00<?, ?it/s]"
      ]
     },
     "metadata": {},
     "output_type": "display_data"
    },
    {
     "data": {
      "application/vnd.jupyter.widget-view+json": {
       "model_id": "3fa8e3ba986048ef9895f33da4953348",
       "version_major": 2,
       "version_minor": 0
      },
      "text/plain": [
       "Random: 99605187072:   0%|          | 0/400000 [00:00<?, ?it/s]"
      ]
     },
     "metadata": {},
     "output_type": "display_data"
    },
    {
     "data": {
      "application/vnd.jupyter.widget-view+json": {
       "model_id": "768816da7e4d4e52b7abcd7fc9bf0a53",
       "version_major": 2,
       "version_minor": 0
      },
      "text/plain": [
       "Random: 37245870066:   0%|          | 0/400000 [00:00<?, ?it/s]"
      ]
     },
     "metadata": {},
     "output_type": "display_data"
    },
    {
     "data": {
      "application/vnd.jupyter.widget-view+json": {
       "model_id": "824e11a79d9345f49ec5e3a9dd6bb3b1",
       "version_major": 2,
       "version_minor": 0
      },
      "text/plain": [
       "Random: 10555964462:   0%|          | 0/400000 [00:00<?, ?it/s]"
      ]
     },
     "metadata": {},
     "output_type": "display_data"
    },
    {
     "data": {
      "application/vnd.jupyter.widget-view+json": {
       "model_id": "add52bf2234e4f659f11ea3b0f291698",
       "version_major": 2,
       "version_minor": 0
      },
      "text/plain": [
       "Random: 84409012249:   0%|          | 0/400000 [00:00<?, ?it/s]"
      ]
     },
     "metadata": {},
     "output_type": "display_data"
    },
    {
     "data": {
      "application/vnd.jupyter.widget-view+json": {
       "model_id": "69a50446477f48bc86689bf1111987f7",
       "version_major": 2,
       "version_minor": 0
      },
      "text/plain": [
       "Random: 27705392171:   0%|          | 0/400000 [00:00<?, ?it/s]"
      ]
     },
     "metadata": {},
     "output_type": "display_data"
    },
    {
     "data": {
      "application/vnd.jupyter.widget-view+json": {
       "model_id": "4c9a7121eae9411cbba3728926478cc5",
       "version_major": 2,
       "version_minor": 0
      },
      "text/plain": [
       "Random: 93118817101:   0%|          | 0/400000 [00:00<?, ?it/s]"
      ]
     },
     "metadata": {},
     "output_type": "display_data"
    },
    {
     "data": {
      "application/vnd.jupyter.widget-view+json": {
       "model_id": "a9ff9211716c485d9cd335cbf5af2fd3",
       "version_major": 2,
       "version_minor": 0
      },
      "text/plain": [
       "Random: 56082778577:   0%|          | 0/400000 [00:00<?, ?it/s]"
      ]
     },
     "metadata": {},
     "output_type": "display_data"
    },
    {
     "data": {
      "application/vnd.jupyter.widget-view+json": {
       "model_id": "603938a88ada42609b3977537ff56926",
       "version_major": 2,
       "version_minor": 0
      },
      "text/plain": [
       "Random: 77857713427:   0%|          | 0/400000 [00:00<?, ?it/s]"
      ]
     },
     "metadata": {},
     "output_type": "display_data"
    }
   ],
   "source": [
    "results = []\n",
    "for _ in trange(20):\n",
    "    data = get_nums()[0:2]\n",
    "    exts = {'max': repeating_ext(data[1], method='max')[0], 'min': repeating_ext(data[1], method='min')[0]}\n",
    "    results.append((data[0], exts, data[1]))"
   ]
  },
  {
   "cell_type": "code",
   "execution_count": 16,
   "metadata": {},
   "outputs": [
    {
     "name": "stdout",
     "output_type": "stream",
     "text": [
      "59502445945: maxs: 2, mins: 2\n",
      "20199561121: maxs: 0, mins: 10\n",
      "51870721134: maxs: 2, mins: 2\n",
      "48111745028: maxs: 0, mins: 0\n",
      "08381420617: maxs: 2, mins: 3\n",
      "91298336733: maxs: 2, mins: 2\n",
      "71309960518: maxs: 11, mins: 0\n",
      "62440656643: maxs: 2, mins: 2\n",
      "79381830119: maxs: 2, mins: 3\n",
      "58700660631: maxs: 2, mins: 2\n",
      "65759591953: maxs: 2, mins: 3\n",
      "56812714526: maxs: 2, mins: 3\n",
      "99605187072: maxs: 2, mins: 2\n",
      "37245870066: maxs: 3, mins: 2\n",
      "10555964462: maxs: 2, mins: 2\n",
      "84409012249: maxs: 20, mins: 20\n",
      "27705392171: maxs: 2, mins: 0\n",
      "93118817101: maxs: 2, mins: 2\n",
      "56082778577: maxs: 2, mins: 2\n",
      "77857713427: maxs: 20, mins: 20\n"
     ]
    }
   ],
   "source": [
    "for result in results:\n",
    "    maxs = len(result[1]['max'])\n",
    "    mins = len(result[1]['min'])\n",
    "    print(f'{result[0]}: maxs: {maxs}, mins: {mins}')"
   ]
  },
  {
   "cell_type": "code",
   "execution_count": 21,
   "metadata": {},
   "outputs": [
    {
     "data": {
      "application/vnd.jupyter.widget-view+json": {
       "model_id": "7d3af9595d4d4cc7b1160ca516e23687",
       "version_major": 2,
       "version_minor": 0
      },
      "text/plain": [
       "Random: 71309960518:   0%|          | 0/400000 [00:00<?, ?it/s]"
      ]
     },
     "metadata": {},
     "output_type": "display_data"
    },
    {
     "data": {
      "text/plain": [
       "[<matplotlib.lines.Line2D at 0x20734bb7a60>]"
      ]
     },
     "execution_count": 21,
     "metadata": {},
     "output_type": "execute_result"
    },
    {
     "data": {
      "image/png": "[encoded data removed]",
      "text/plain": [
       "<Figure size 640x480 with 1 Axes>"
      ]
     },
     "metadata": {},
     "output_type": "display_data"
    }
   ],
   "source": [
    "data = get_nums(seed='71309960518', n=400000, rawness='rounded')[1]\n",
    "plt.plot(data)"
   ]
  }
 ],
 "metadata": {
  "kernelspec": {
   "display_name": "Python 3 (ipykernel)",
   "language": "python",
   "name": "python3"
  },
  "language_info": {
   "codemirror_mode": {
    "name": "ipython",
    "version": 3
   },
   "file_extension": ".py",
   "mimetype": "text/x-python",
   "name": "python",
   "nbconvert_exporter": "python",
   "pygments_lexer": "ipython3",
   "version": "3.10.9"
  }
 },
 "nbformat": 4,
 "nbformat_minor": 2
}
